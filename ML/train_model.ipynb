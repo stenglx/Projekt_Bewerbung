{
 "cells": [
  {
   "cell_type": "markdown",
   "metadata": {},
   "source": [
    "### This file is used for model training\n",
    "- data prep was done beforehand\n",
    "- ./Projekt_Bewerbung/buildDiffer/BuildDiffer/training_data.csv contains a csv with build metrics used for training and testing the model \n",
    "- The labels can be extracted from the ./Projekt_Bewerbung/data/travistorrent_100commits_withoutduplicates.csv \n",
    "as the order is still the same for both files \n",
    "\n",
    "- - pass \n",
    "- - fail\n",
    "- - errored\n",
    "- - canceled"
   ]
  },
  {
   "cell_type": "markdown",
   "metadata": {},
   "source": [
    "### Read in data"
   ]
  },
  {
   "cell_type": "code",
   "execution_count": 40,
   "metadata": {},
   "outputs": [],
   "source": [
    "import pandas as pd\n",
    "import numpy as np\n",
    "#!pip3 install matplotlib\n",
    "import matplotlib.pyplot as plt\n",
    "#!pip3 install imblearn\n",
    "from imblearn.over_sampling import SMOTE\n",
    "import sklearn \n",
    "from sklearn.model_selection import train_test_split\n",
    "from sklearn.ensemble import RandomForestClassifier\n",
    "from sklearn.metrics import accuracy_score"
   ]
  },
  {
   "cell_type": "code",
   "execution_count": 41,
   "metadata": {},
   "outputs": [
    {
     "name": "stdout",
     "output_type": "stream",
     "text": [
      "  BuildResult\n",
      "0      passed\n",
      "1    canceled\n",
      "2    canceled\n",
      "3      passed\n",
      "4    canceled\n",
      "   DependencyChange  TeamChange  RepositoryChange  GeneralChange  BuildChange\n",
      "0                 0           0                 0              1            0\n",
      "1                 0           0                 0              0            0\n",
      "2                 0           0                 0              0            0\n",
      "3                 0           0                 0              1            0\n",
      "4                 0           0                 0              0            0\n"
     ]
    }
   ],
   "source": [
    "data = pd.read_csv('/Users/Rina/Desktop/StudiAssistent/Projekt_Bewerbung/buildDiffer/BuildDiffer/training_data.csv')\n",
    "\n",
    "#print(data.head())\n",
    "#    DependencyChange  TeamChange  RepositoryChange  GeneralChange  BuildChange   BuildResult         \n",
    "#0                 0           0                 5              0            1    errored\n",
    "\n",
    "labels = pd.DataFrame(data['BuildResult'])\n",
    "print(labels.head())\n",
    "\n",
    "data = data.drop(['BuildResult'], axis=1)\n",
    "print(data.head())\n",
    "\n",
    "# dummy data \n",
    "#import numpy as np\n",
    "#data = pd.DataFrame(np.random.randint(0,10, size=(100,1)))"
   ]
  },
  {
   "cell_type": "markdown",
   "metadata": {},
   "source": [
    "### Oversampling"
   ]
  },
  {
   "cell_type": "code",
   "execution_count": 42,
   "metadata": {},
   "outputs": [
    {
     "name": "stdout",
     "output_type": "stream",
     "text": [
      "Data (89, 5)\n",
      "Labels (89, 1)\n",
      "(100, 5)\n",
      "(100, 1)\n"
     ]
    }
   ],
   "source": [
    "# TODO introduced bc first version of data consisted of almost only errored buildresults; new dataset containts 25 samples of all 4 classes \n",
    "\n",
    "smote = SMOTE()\n",
    "print('Data', data.shape)\n",
    "print('Labels', labels.shape)\n",
    "\n",
    "X_oversampled, y_oversampled = smote.fit_resample(data,labels)\n",
    "print(X_oversampled.shape)\n",
    "print(y_oversampled.shape)\n"
   ]
  },
  {
   "cell_type": "markdown",
   "metadata": {},
   "source": [
    "### Dataset splitting"
   ]
  },
  {
   "cell_type": "code",
   "execution_count": 43,
   "metadata": {},
   "outputs": [
    {
     "name": "stdout",
     "output_type": "stream",
     "text": [
      "Training data     DependencyChange  TeamChange  RepositoryChange  GeneralChange  BuildChange\n",
      "46                 0           0                 0              0            0\n",
      "54                 0           0                 0              0            0\n",
      "85                 0           0                 0              1            0\n",
      "44                 0           0                 0              1            0\n",
      "32                 0           0                 0              0            0\n",
      "..               ...         ...               ...            ...          ...\n",
      "74                 0           0                 0              0            0\n",
      "71                 0           0                 0              1            0\n",
      "75                 0           0                 0              1            0\n",
      "12                 0           0                 0              1            0\n",
      "47                 0           0                 0              0            1\n",
      "\n",
      "[71 rows x 5 columns]\n",
      "Training labels    BuildResult\n",
      "46     errored\n",
      "54    canceled\n",
      "85      passed\n",
      "44      passed\n",
      "32      failed\n",
      "..         ...\n",
      "74      failed\n",
      "71     errored\n",
      "75     errored\n",
      "12      passed\n",
      "47    canceled\n",
      "\n",
      "[71 rows x 1 columns]\n"
     ]
    }
   ],
   "source": [
    "X_train, X_test, y_train, y_test = train_test_split(data,labels,test_size=0.2)\n",
    "\n",
    "print('Training data', X_train)\n",
    "print('Training labels', y_train)"
   ]
  },
  {
   "cell_type": "markdown",
   "metadata": {},
   "source": [
    "### Model training"
   ]
  },
  {
   "cell_type": "code",
   "execution_count": 44,
   "metadata": {},
   "outputs": [
    {
     "name": "stdout",
     "output_type": "stream",
     "text": [
      "Actual values "
     ]
    },
    {
     "name": "stderr",
     "output_type": "stream",
     "text": [
      "/usr/local/lib/python3.11/site-packages/sklearn/base.py:1152: DataConversionWarning: A column-vector y was passed when a 1d array was expected. Please change the shape of y to (n_samples,), for example using ravel().\n",
      "  return fit_method(estimator, *args, **kwargs)\n"
     ]
    },
    {
     "name": "stdout",
     "output_type": "stream",
     "text": [
      "   BuildResult\n",
      "1     canceled\n",
      "66     errored\n",
      "20      failed\n",
      "82      passed\n",
      "30    canceled\n",
      "33     errored\n",
      "22      passed\n",
      "53    canceled\n",
      "48      passed\n",
      "37      passed\n",
      "52     errored\n",
      "28    canceled\n",
      "18    canceled\n",
      "27      failed\n",
      "21      passed\n",
      "6     canceled\n",
      "55      failed\n",
      "34      failed\n",
      "Predicted values ['failed' 'errored' 'failed' 'errored' 'failed' 'errored' 'failed'\n",
      " 'canceled' 'errored' 'errored' 'errored' 'failed' 'failed' 'errored'\n",
      " 'errored' 'failed' 'failed' 'failed']\n",
      "\n",
      "Accuracy of predictions:  0.3888888888888889\n"
     ]
    }
   ],
   "source": [
    "classifier = RandomForestClassifier()\n",
    "\n",
    "classifier.fit(X_train, y_train)\n",
    "\n",
    "test_preditctions = classifier.predict(X_test)\n",
    "\n",
    "print('Actual values', y_test)\n",
    "print('Predicted values', test_preditctions)\n",
    "\n",
    "# true values , predicted values \n",
    "accuracy = accuracy_score(y_test, test_preditctions)\n",
    "print('\\nAccuracy of predictions: ', accuracy)"
   ]
  },
  {
   "cell_type": "markdown",
   "metadata": {},
   "source": [
    "### Plots\n"
   ]
  },
  {
   "cell_type": "code",
   "execution_count": 45,
   "metadata": {},
   "outputs": [
    {
     "name": "stdout",
     "output_type": "stream",
     "text": [
      "18\n",
      "18\n",
      "18\n"
     ]
    },
    {
     "data": {
      "text/plain": [
       "<matplotlib.collections.PathCollection at 0x120047790>"
      ]
     },
     "execution_count": 45,
     "metadata": {},
     "output_type": "execute_result"
    },
    {
     "data": {
      "image/png": "[encoded data removed]",
      "text/plain": [
       "<Figure size 640x480 with 1 Axes>"
      ]
     },
     "metadata": {},
     "output_type": "display_data"
    }
   ],
   "source": [
    "size_test_set = X_test.shape[0] # row = [0], col = [1]\n",
    "print(size_test_set)\n",
    "\n",
    "# plot actual test point and prediction\n",
    "plt.scatter(np.arange(1, 19), test_preditctions, color=\"red\") \n",
    "plt.scatter(np.arange(1, 19), y_test['BuildResult'], color=\"blue\") "
   ]
  }
 ],
 "metadata": {
  "kernelspec": {
   "display_name": "Python 3",
   "language": "python",
   "name": "python3"
  },
  "language_info": {
   "codemirror_mode": {
    "name": "ipython",
    "version": 3
   },
   "file_extension": ".py",
   "mimetype": "text/x-python",
   "name": "python",
   "nbconvert_exporter": "python",
   "pygments_lexer": "ipython3",
   "version": "3.11.6"
  }
 },
 "nbformat": 4,
 "nbformat_minor": 2
}
