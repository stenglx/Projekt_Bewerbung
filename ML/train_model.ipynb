{
 "cells": [
  {
   "cell_type": "markdown",
   "metadata": {},
   "source": [
    "### This file is used for model training\n",
    "- data prep was done beforehand\n",
    "- ./Projekt_Bewerbung/buildDiffer/BuildDiffer/training_data.csv contains a csv with build metrics used for training and testing the model \n",
    "- The labels can be extracted from the ./Projekt_Bewerbung/data/travistorrent_100commits_withoutduplicates.csv \n",
    "as the order is still the same for both files \n",
    "\n",
    "- - pass \n",
    "- - fail\n",
    "- - errored\n",
    "- - canceled"
   ]
  },
  {
   "cell_type": "markdown",
   "metadata": {},
   "source": [
    "### Read in data"
   ]
  },
  {
   "cell_type": "code",
   "execution_count": 2,
   "metadata": {},
   "outputs": [
    {
     "name": "stdout",
     "output_type": "stream",
     "text": [
      "   tr_status\n",
      "0    errored\n",
      "1    errored\n",
      "2    errored\n",
      "3    errored\n",
      "4    errored\n",
      "..       ...\n",
      "95   errored\n",
      "96   errored\n",
      "97   errored\n",
      "98   errored\n",
      "99   errored\n",
      "\n",
      "[100 rows x 1 columns]\n",
      "Size of dataframe (rows):  100\n"
     ]
    }
   ],
   "source": [
    "# TODO moved to other part\n",
    "\n",
    "#!pip3 install pandas\n",
    "import pandas as pd\n",
    "\n",
    "travistorrent_dataset = pd.read_csv('/Users/Rina/Desktop/StudiAssistent/Projekt_Bewerbung/data/travistorrent_100commits_withoutduplicates_shuffeld.csv')\n",
    "#print(travistorrent_dataset.head())\n",
    "labels = pd.DataFrame(travistorrent_dataset)\n",
    "labels = labels[[ 'tr_status']]#.drop_duplicates()[0:100]\n",
    "# TODO check whether tr_status is build result \n",
    "print(labels) # now we have a dataframe containing \n",
    "print('Size of dataframe (rows): ', labels.shape[0])"
   ]
  },
  {
   "cell_type": "code",
   "execution_count": 11,
   "metadata": {},
   "outputs": [
    {
     "name": "stdout",
     "output_type": "stream",
     "text": [
      "   DependencyChange  TeamChange  RepositoryChange  GeneralChange  BuildChange  \\\n",
      "0                 0           0                 5              0            1   \n",
      "1                 0           0                 5              0            1   \n",
      "\n",
      "  BuildResult  \n",
      "0     errored  \n",
      "1     errored  \n",
      "  BuildResult\n",
      "0     errored\n",
      "1     errored\n",
      "   DependencyChange  TeamChange  RepositoryChange  GeneralChange  BuildChange\n",
      "0                 0           0                 5              0            1\n",
      "1                 0           0                 5              0            1\n"
     ]
    }
   ],
   "source": [
    "data = pd.read_csv('/Users/Rina/Desktop/StudiAssistent/Projekt_Bewerbung/buildDiffer/BuildDiffer/training_data.csv')\n",
    "\n",
    "#print(data.head())\n",
    "#    DependencyChange  TeamChange  RepositoryChange  GeneralChange  BuildChange   BuildResult         \n",
    "#0                 0           0                 5              0            1    errored\n",
    "\n",
    "labels = pd.DataFrame(data['BuildResult'])\n",
    "print(labels.head())\n",
    "\n",
    "data = data.drop(['BuildResult'], axis=1)\n",
    "print(data.head())\n",
    "\n",
    "# dummy data \n",
    "#import numpy as np\n",
    "#data = pd.DataFrame(np.random.randint(0,10, size=(100,1)))"
   ]
  },
  {
   "cell_type": "markdown",
   "metadata": {},
   "source": [
    "### Dataset splitting"
   ]
  },
  {
   "cell_type": "code",
   "execution_count": 12,
   "metadata": {},
   "outputs": [
    {
     "name": "stdout",
     "output_type": "stream",
     "text": [
      "Training data    DependencyChange  TeamChange  RepositoryChange  GeneralChange  BuildChange\n",
      "1                 0           0                 5              0            1\n",
      "Training labels   BuildResult\n",
      "1     errored\n"
     ]
    }
   ],
   "source": [
    "import sklearn \n",
    "from sklearn.model_selection import train_test_split\n",
    "\n",
    "X_train, X_test, y_train, y_test = train_test_split(data,labels,test_size=0.2)\n",
    "\n",
    "print('Training data', X_train)\n",
    "print('Training labels', y_train)"
   ]
  },
  {
   "cell_type": "markdown",
   "metadata": {},
   "source": [
    "### Model training"
   ]
  },
  {
   "cell_type": "code",
   "execution_count": 13,
   "metadata": {},
   "outputs": [
    {
     "name": "stdout",
     "output_type": "stream",
     "text": [
      "Actual values   BuildResult\n",
      "0     errored\n",
      "Predicted values ['errored']\n",
      "\n",
      "Accuracy of predictions:  1.0\n"
     ]
    },
    {
     "name": "stderr",
     "output_type": "stream",
     "text": [
      "/usr/local/lib/python3.11/site-packages/sklearn/base.py:1152: DataConversionWarning: A column-vector y was passed when a 1d array was expected. Please change the shape of y to (n_samples,), for example using ravel().\n",
      "  return fit_method(estimator, *args, **kwargs)\n"
     ]
    }
   ],
   "source": [
    "from sklearn.ensemble import RandomForestClassifier\n",
    "from sklearn.metrics import accuracy_score\n",
    "\n",
    "classifier = RandomForestClassifier()\n",
    "\n",
    "classifier.fit(X_train, y_train)\n",
    "\n",
    "test_preditctions = classifier.predict(X_test)\n",
    "\n",
    "print('Actual values', y_test)\n",
    "print('Predicted values', test_preditctions)\n",
    "\n",
    "# true values , predicted values \n",
    "accuracy = accuracy_score(y_test, test_preditctions)\n",
    "print('\\nAccuracy of predictions: ', accuracy)"
   ]
  },
  {
   "cell_type": "markdown",
   "metadata": {},
   "source": [
    "#### TODO \n",
    "- Thinks about a different way to gather 100 commits as most of the first 100 are errored builds (maybe shuffle dataframe at first and then take those)\n",
    "- Maybe use data augmentation (will do so later anyway in real project)\n",
    "- For now model does overfit :D "
   ]
  },
  {
   "cell_type": "markdown",
   "metadata": {},
   "source": [
    "### Plots\n"
   ]
  },
  {
   "cell_type": "code",
   "execution_count": null,
   "metadata": {},
   "outputs": [],
   "source": [
    "# after it's fitted\n",
    "# copied from stack overflow \n",
    "# https://stackoverflow.com/questions/40155128/plot-trees-for-a-random-forest-in-python-with-scikit-learn\n",
    "from sklearn.tree import export_graphviz\n",
    "export_graphviz(tree_in_forest,\n",
    "                feature_names=X.columns,\n",
    "                filled=True,\n",
    "                rounded=True)"
   ]
  }
 ],
 "metadata": {
  "kernelspec": {
   "display_name": "Python 3",
   "language": "python",
   "name": "python3"
  },
  "language_info": {
   "codemirror_mode": {
    "name": "ipython",
    "version": 3
   },
   "file_extension": ".py",
   "mimetype": "text/x-python",
   "name": "python",
   "nbconvert_exporter": "python",
   "pygments_lexer": "ipython3",
   "version": "3.11.6"
  }
 },
 "nbformat": 4,
 "nbformat_minor": 2
}
